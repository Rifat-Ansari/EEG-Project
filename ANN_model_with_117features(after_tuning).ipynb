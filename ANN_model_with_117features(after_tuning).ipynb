{
  "nbformat": 4,
  "nbformat_minor": 0,
  "metadata": {
    "colab": {
      "name": "ANN_model_with_117features(after_tuning).ipynb",
      "provenance": []
    },
    "kernelspec": {
      "name": "python3",
      "display_name": "Python 3"
    },
    "language_info": {
      "name": "python"
    }
  },
  "cells": [
    {
      "cell_type": "code",
      "execution_count": null,
      "metadata": {
        "colab": {
          "base_uri": "https://localhost:8080/"
        },
        "id": "V8wzR4ZzHBci",
        "outputId": "51f36643-54f4-4d38-e988-c7898640a9ff"
      },
      "outputs": [
        {
          "output_type": "stream",
          "name": "stdout",
          "text": [
            "Mounted at /content/drive\n"
          ]
        }
      ],
      "source": [
        "from google.colab import drive\n",
        "drive.mount('/content/drive')"
      ]
    },
    {
      "cell_type": "code",
      "source": [
        "# import important library\n",
        "import glob\n",
        "import pandas as pd\n",
        "import matplotlib.pyplot as plt\n",
        "import matplotlib as mpl\n",
        "import numpy as np\n",
        "import seaborn as sns\n",
        "from scipy import stats\n",
        "import os\n",
        "from collections import Counter\n",
        "\n",
        "%matplotlib inline\n",
        "import pickle\n",
        "import warnings\n",
        "from sklearn import metrics\n",
        "from sklearn.preprocessing import LabelEncoder\n",
        "from sklearn.base import clone\n",
        "from sklearn.preprocessing import label_binarize\n",
        "from scipy import interp\n",
        "from sklearn.metrics import roc_curve, auc \n",
        "\n",
        "from matplotlib.legend_handler import HandlerLine2D\n",
        "import time\n",
        "\n",
        "import sklearn\n",
        "from sklearn.model_selection import train_test_split\n",
        "from sklearn.preprocessing import StandardScaler\n",
        "from sklearn.preprocessing import MinMaxScaler\n",
        "from sklearn.preprocessing import LabelEncoder\n",
        "from sklearn.linear_model import LogisticRegression\n",
        "from sklearn.naive_bayes import GaussianNB\n",
        "from sklearn.tree import DecisionTreeClassifier\n",
        "from sklearn.ensemble import RandomForestClassifier\n",
        "from sklearn import svm\n",
        "from sklearn.svm import SVC\n",
        "from sklearn.ensemble import GradientBoostingClassifier\n",
        "from sklearn.neural_network import MLPClassifier\n",
        "from sklearn.metrics import classification_report\n",
        "\n",
        "from sklearn.preprocessing import StandardScaler\n",
        "from sklearn.decomposition import PCA\n",
        "from sklearn.pipeline import Pipeline\n",
        "from sklearn.model_selection import train_test_split\n",
        "from sklearn.model_selection import GridSearchCV\n",
        "from sklearn.model_selection import RandomizedSearchCV\n",
        "from sklearn.model_selection import cross_val_score\n",
        "\n",
        "from xgboost import XGBClassifier\n",
        "\n",
        "from sklearn.metrics import accuracy_score\n",
        "#from sklearn.externals import joblib"
      ],
      "metadata": {
        "id": "TxJ1vh47HJy5"
      },
      "execution_count": null,
      "outputs": []
    },
    {
      "cell_type": "code",
      "source": [
        "f_vector = pd.read_csv('/content/drive/MyDrive/CSE499B_data/Feature_vector_108 (2).csv')\n",
        "f_vector.head()"
      ],
      "metadata": {
        "colab": {
          "base_uri": "https://localhost:8080/",
          "height": 236
        },
        "id": "T7mpmV4hHM_R",
        "outputId": "507a0c28-4c70-406f-cc13-a458e3ccac90"
      },
      "execution_count": null,
      "outputs": [
        {
          "output_type": "execute_result",
          "data": {
            "text/plain": [
              "       f1c1      f1c2      f1c3      f1c4      f1c5      f1c6      f1c7  \\\n",
              "0  2.260318  2.349516  2.285102  2.371036  1.723475  2.354274  1.938889   \n",
              "1  0.328330  0.380961  0.402019  0.302958  0.721228  0.672094  0.279890   \n",
              "2  1.319238  1.649933  1.764590  1.534097  1.306506  2.514998  1.442240   \n",
              "3  0.881155  0.549112 -0.009987  0.481874  0.616842  0.255339  0.236800   \n",
              "4  2.480299  2.159354  2.323685  1.121081  2.003411  1.788438  2.149194   \n",
              "\n",
              "       f1c8      f1c9       f2c1  ...      p5c1      p5c2      p5c3      p5c4  \\\n",
              "0  2.088486  1.822621   4.532200  ...  2.847430  2.468363  2.475560  2.852187   \n",
              "1  0.338119  0.285035   1.727734  ...  2.638754  2.326181  2.539087  2.771569   \n",
              "2  2.010884  1.819087   6.019772  ...  1.797214  1.589979  1.508731  1.750036   \n",
              "3 -0.273485  0.047532   5.899954  ...  2.795483  2.967400  2.478721  3.613074   \n",
              "4  1.761871  1.609207  18.623084  ...  1.722872  1.842653  1.870039  2.220646   \n",
              "\n",
              "       p5c5      p5c6      p5c7      p5c8      p5c9  label  \n",
              "0  3.900093  2.878861  3.402330  3.174722  3.616891      0  \n",
              "1  3.194668  2.511841  2.843321  2.855719  3.362964      0  \n",
              "2  1.837351  1.716106  1.886707  1.613818  1.696078      0  \n",
              "3  4.194302  3.455086  3.332238  3.230821  3.102742      0  \n",
              "4  2.627883  2.439646  2.240589  2.656710  2.838000      0  \n",
              "\n",
              "[5 rows x 118 columns]"
            ],
            "text/html": [
              "\n",
              "  <div id=\"df-84b23840-f234-4623-922f-d0140103523c\">\n",
              "    <div class=\"colab-df-container\">\n",
              "      <div>\n",
              "<style scoped>\n",
              "    .dataframe tbody tr th:only-of-type {\n",
              "        vertical-align: middle;\n",
              "    }\n",
              "\n",
              "    .dataframe tbody tr th {\n",
              "        vertical-align: top;\n",
              "    }\n",
              "\n",
              "    .dataframe thead th {\n",
              "        text-align: right;\n",
              "    }\n",
              "</style>\n",
              "<table border=\"1\" class=\"dataframe\">\n",
              "  <thead>\n",
              "    <tr style=\"text-align: right;\">\n",
              "      <th></th>\n",
              "      <th>f1c1</th>\n",
              "      <th>f1c2</th>\n",
              "      <th>f1c3</th>\n",
              "      <th>f1c4</th>\n",
              "      <th>f1c5</th>\n",
              "      <th>f1c6</th>\n",
              "      <th>f1c7</th>\n",
              "      <th>f1c8</th>\n",
              "      <th>f1c9</th>\n",
              "      <th>f2c1</th>\n",
              "      <th>...</th>\n",
              "      <th>p5c1</th>\n",
              "      <th>p5c2</th>\n",
              "      <th>p5c3</th>\n",
              "      <th>p5c4</th>\n",
              "      <th>p5c5</th>\n",
              "      <th>p5c6</th>\n",
              "      <th>p5c7</th>\n",
              "      <th>p5c8</th>\n",
              "      <th>p5c9</th>\n",
              "      <th>label</th>\n",
              "    </tr>\n",
              "  </thead>\n",
              "  <tbody>\n",
              "    <tr>\n",
              "      <th>0</th>\n",
              "      <td>2.260318</td>\n",
              "      <td>2.349516</td>\n",
              "      <td>2.285102</td>\n",
              "      <td>2.371036</td>\n",
              "      <td>1.723475</td>\n",
              "      <td>2.354274</td>\n",
              "      <td>1.938889</td>\n",
              "      <td>2.088486</td>\n",
              "      <td>1.822621</td>\n",
              "      <td>4.532200</td>\n",
              "      <td>...</td>\n",
              "      <td>2.847430</td>\n",
              "      <td>2.468363</td>\n",
              "      <td>2.475560</td>\n",
              "      <td>2.852187</td>\n",
              "      <td>3.900093</td>\n",
              "      <td>2.878861</td>\n",
              "      <td>3.402330</td>\n",
              "      <td>3.174722</td>\n",
              "      <td>3.616891</td>\n",
              "      <td>0</td>\n",
              "    </tr>\n",
              "    <tr>\n",
              "      <th>1</th>\n",
              "      <td>0.328330</td>\n",
              "      <td>0.380961</td>\n",
              "      <td>0.402019</td>\n",
              "      <td>0.302958</td>\n",
              "      <td>0.721228</td>\n",
              "      <td>0.672094</td>\n",
              "      <td>0.279890</td>\n",
              "      <td>0.338119</td>\n",
              "      <td>0.285035</td>\n",
              "      <td>1.727734</td>\n",
              "      <td>...</td>\n",
              "      <td>2.638754</td>\n",
              "      <td>2.326181</td>\n",
              "      <td>2.539087</td>\n",
              "      <td>2.771569</td>\n",
              "      <td>3.194668</td>\n",
              "      <td>2.511841</td>\n",
              "      <td>2.843321</td>\n",
              "      <td>2.855719</td>\n",
              "      <td>3.362964</td>\n",
              "      <td>0</td>\n",
              "    </tr>\n",
              "    <tr>\n",
              "      <th>2</th>\n",
              "      <td>1.319238</td>\n",
              "      <td>1.649933</td>\n",
              "      <td>1.764590</td>\n",
              "      <td>1.534097</td>\n",
              "      <td>1.306506</td>\n",
              "      <td>2.514998</td>\n",
              "      <td>1.442240</td>\n",
              "      <td>2.010884</td>\n",
              "      <td>1.819087</td>\n",
              "      <td>6.019772</td>\n",
              "      <td>...</td>\n",
              "      <td>1.797214</td>\n",
              "      <td>1.589979</td>\n",
              "      <td>1.508731</td>\n",
              "      <td>1.750036</td>\n",
              "      <td>1.837351</td>\n",
              "      <td>1.716106</td>\n",
              "      <td>1.886707</td>\n",
              "      <td>1.613818</td>\n",
              "      <td>1.696078</td>\n",
              "      <td>0</td>\n",
              "    </tr>\n",
              "    <tr>\n",
              "      <th>3</th>\n",
              "      <td>0.881155</td>\n",
              "      <td>0.549112</td>\n",
              "      <td>-0.009987</td>\n",
              "      <td>0.481874</td>\n",
              "      <td>0.616842</td>\n",
              "      <td>0.255339</td>\n",
              "      <td>0.236800</td>\n",
              "      <td>-0.273485</td>\n",
              "      <td>0.047532</td>\n",
              "      <td>5.899954</td>\n",
              "      <td>...</td>\n",
              "      <td>2.795483</td>\n",
              "      <td>2.967400</td>\n",
              "      <td>2.478721</td>\n",
              "      <td>3.613074</td>\n",
              "      <td>4.194302</td>\n",
              "      <td>3.455086</td>\n",
              "      <td>3.332238</td>\n",
              "      <td>3.230821</td>\n",
              "      <td>3.102742</td>\n",
              "      <td>0</td>\n",
              "    </tr>\n",
              "    <tr>\n",
              "      <th>4</th>\n",
              "      <td>2.480299</td>\n",
              "      <td>2.159354</td>\n",
              "      <td>2.323685</td>\n",
              "      <td>1.121081</td>\n",
              "      <td>2.003411</td>\n",
              "      <td>1.788438</td>\n",
              "      <td>2.149194</td>\n",
              "      <td>1.761871</td>\n",
              "      <td>1.609207</td>\n",
              "      <td>18.623084</td>\n",
              "      <td>...</td>\n",
              "      <td>1.722872</td>\n",
              "      <td>1.842653</td>\n",
              "      <td>1.870039</td>\n",
              "      <td>2.220646</td>\n",
              "      <td>2.627883</td>\n",
              "      <td>2.439646</td>\n",
              "      <td>2.240589</td>\n",
              "      <td>2.656710</td>\n",
              "      <td>2.838000</td>\n",
              "      <td>0</td>\n",
              "    </tr>\n",
              "  </tbody>\n",
              "</table>\n",
              "<p>5 rows × 118 columns</p>\n",
              "</div>\n",
              "      <button class=\"colab-df-convert\" onclick=\"convertToInteractive('df-84b23840-f234-4623-922f-d0140103523c')\"\n",
              "              title=\"Convert this dataframe to an interactive table.\"\n",
              "              style=\"display:none;\">\n",
              "        \n",
              "  <svg xmlns=\"http://www.w3.org/2000/svg\" height=\"24px\"viewBox=\"0 0 24 24\"\n",
              "       width=\"24px\">\n",
              "    <path d=\"M0 0h24v24H0V0z\" fill=\"none\"/>\n",
              "    <path d=\"M18.56 5.44l.94 2.06.94-2.06 2.06-.94-2.06-.94-.94-2.06-.94 2.06-2.06.94zm-11 1L8.5 8.5l.94-2.06 2.06-.94-2.06-.94L8.5 2.5l-.94 2.06-2.06.94zm10 10l.94 2.06.94-2.06 2.06-.94-2.06-.94-.94-2.06-.94 2.06-2.06.94z\"/><path d=\"M17.41 7.96l-1.37-1.37c-.4-.4-.92-.59-1.43-.59-.52 0-1.04.2-1.43.59L10.3 9.45l-7.72 7.72c-.78.78-.78 2.05 0 2.83L4 21.41c.39.39.9.59 1.41.59.51 0 1.02-.2 1.41-.59l7.78-7.78 2.81-2.81c.8-.78.8-2.07 0-2.86zM5.41 20L4 18.59l7.72-7.72 1.47 1.35L5.41 20z\"/>\n",
              "  </svg>\n",
              "      </button>\n",
              "      \n",
              "  <style>\n",
              "    .colab-df-container {\n",
              "      display:flex;\n",
              "      flex-wrap:wrap;\n",
              "      gap: 12px;\n",
              "    }\n",
              "\n",
              "    .colab-df-convert {\n",
              "      background-color: #E8F0FE;\n",
              "      border: none;\n",
              "      border-radius: 50%;\n",
              "      cursor: pointer;\n",
              "      display: none;\n",
              "      fill: #1967D2;\n",
              "      height: 32px;\n",
              "      padding: 0 0 0 0;\n",
              "      width: 32px;\n",
              "    }\n",
              "\n",
              "    .colab-df-convert:hover {\n",
              "      background-color: #E2EBFA;\n",
              "      box-shadow: 0px 1px 2px rgba(60, 64, 67, 0.3), 0px 1px 3px 1px rgba(60, 64, 67, 0.15);\n",
              "      fill: #174EA6;\n",
              "    }\n",
              "\n",
              "    [theme=dark] .colab-df-convert {\n",
              "      background-color: #3B4455;\n",
              "      fill: #D2E3FC;\n",
              "    }\n",
              "\n",
              "    [theme=dark] .colab-df-convert:hover {\n",
              "      background-color: #434B5C;\n",
              "      box-shadow: 0px 1px 3px 1px rgba(0, 0, 0, 0.15);\n",
              "      filter: drop-shadow(0px 1px 2px rgba(0, 0, 0, 0.3));\n",
              "      fill: #FFFFFF;\n",
              "    }\n",
              "  </style>\n",
              "\n",
              "      <script>\n",
              "        const buttonEl =\n",
              "          document.querySelector('#df-84b23840-f234-4623-922f-d0140103523c button.colab-df-convert');\n",
              "        buttonEl.style.display =\n",
              "          google.colab.kernel.accessAllowed ? 'block' : 'none';\n",
              "\n",
              "        async function convertToInteractive(key) {\n",
              "          const element = document.querySelector('#df-84b23840-f234-4623-922f-d0140103523c');\n",
              "          const dataTable =\n",
              "            await google.colab.kernel.invokeFunction('convertToInteractive',\n",
              "                                                     [key], {});\n",
              "          if (!dataTable) return;\n",
              "\n",
              "          const docLinkHtml = 'Like what you see? Visit the ' +\n",
              "            '<a target=\"_blank\" href=https://colab.research.google.com/notebooks/data_table.ipynb>data table notebook</a>'\n",
              "            + ' to learn more about interactive tables.';\n",
              "          element.innerHTML = '';\n",
              "          dataTable['output_type'] = 'display_data';\n",
              "          await google.colab.output.renderOutput(dataTable, element);\n",
              "          const docLink = document.createElement('div');\n",
              "          docLink.innerHTML = docLinkHtml;\n",
              "          element.appendChild(docLink);\n",
              "        }\n",
              "      </script>\n",
              "    </div>\n",
              "  </div>\n",
              "  "
            ]
          },
          "metadata": {},
          "execution_count": 3
        }
      ]
    },
    {
      "cell_type": "code",
      "source": [
        "X = f_vector.drop('label',axis='columns')\n",
        "y = f_vector['label']\n",
        "\n",
        "from sklearn.model_selection import train_test_split\n",
        "X_train, X_test, y_train, y_test = train_test_split(X,y,test_size=0.2,random_state=2)"
      ],
      "metadata": {
        "id": "KVGyOhOSHQ5j"
      },
      "execution_count": null,
      "outputs": []
    },
    {
      "cell_type": "code",
      "source": [
        "import tensorflow as tf\n",
        "from tensorflow import keras\n",
        "from tensorflow.keras.layers import Dropout\n",
        "\n",
        "model = keras.Sequential([\n",
        "    keras.layers.Dense(117, input_shape=(117,), activation='relu'),\n",
        "    keras.layers.Dense(80, activation='relu'),\n",
        "    keras.layers.Dropout(0.25),\n",
        "    keras.layers.Dense(60, activation='relu'),\n",
        "    keras.layers.Dropout(0.25),\n",
        "    keras.layers.Dense(32, activation='relu'),\n",
        "    keras.layers.Dropout(0.50),\n",
        "    keras.layers.Dense(1, activation='sigmoid'),\n",
        "\n",
        "])\n"
      ],
      "metadata": {
        "id": "yBsfWQD9HR24"
      },
      "execution_count": null,
      "outputs": []
    },
    {
      "cell_type": "code",
      "source": [
        "model.compile(optimizer='adam',\n",
        "              loss='binary_crossentropy',\n",
        "              metrics=['accuracy'])\n",
        "model.fit(X_train, y_train, epochs=50)"
      ],
      "metadata": {
        "colab": {
          "base_uri": "https://localhost:8080/"
        },
        "id": "5OYhhqX9Hg_D",
        "outputId": "b0438fd5-6690-4f16-9851-dbafa0aaaa4d"
      },
      "execution_count": null,
      "outputs": [
        {
          "output_type": "stream",
          "name": "stdout",
          "text": [
            "Epoch 1/50\n",
            "2/2 [==============================] - 1s 8ms/step - loss: 13.9001 - accuracy: 0.5312\n",
            "Epoch 2/50\n",
            "2/2 [==============================] - 0s 6ms/step - loss: 19.2260 - accuracy: 0.5000\n",
            "Epoch 3/50\n",
            "2/2 [==============================] - 0s 7ms/step - loss: 18.3578 - accuracy: 0.5625\n",
            "Epoch 4/50\n",
            "2/2 [==============================] - 0s 7ms/step - loss: 28.0822 - accuracy: 0.4531\n",
            "Epoch 5/50\n",
            "2/2 [==============================] - 0s 7ms/step - loss: 13.1772 - accuracy: 0.5625\n",
            "Epoch 6/50\n",
            "2/2 [==============================] - 0s 7ms/step - loss: 8.6460 - accuracy: 0.6250\n",
            "Epoch 7/50\n",
            "2/2 [==============================] - 0s 7ms/step - loss: 8.4884 - accuracy: 0.5938\n",
            "Epoch 8/50\n",
            "2/2 [==============================] - 0s 7ms/step - loss: 8.9812 - accuracy: 0.5156\n",
            "Epoch 9/50\n",
            "2/2 [==============================] - 0s 6ms/step - loss: 6.7801 - accuracy: 0.5781\n",
            "Epoch 10/50\n",
            "2/2 [==============================] - 0s 6ms/step - loss: 9.9556 - accuracy: 0.4688\n",
            "Epoch 11/50\n",
            "2/2 [==============================] - 0s 6ms/step - loss: 5.9465 - accuracy: 0.5469\n",
            "Epoch 12/50\n",
            "2/2 [==============================] - 0s 6ms/step - loss: 5.7095 - accuracy: 0.5312\n",
            "Epoch 13/50\n",
            "2/2 [==============================] - 0s 5ms/step - loss: 7.0518 - accuracy: 0.4531\n",
            "Epoch 14/50\n",
            "2/2 [==============================] - 0s 5ms/step - loss: 4.0394 - accuracy: 0.5156\n",
            "Epoch 15/50\n",
            "2/2 [==============================] - 0s 8ms/step - loss: 4.1178 - accuracy: 0.5312\n",
            "Epoch 16/50\n",
            "2/2 [==============================] - 0s 5ms/step - loss: 4.3327 - accuracy: 0.5156\n",
            "Epoch 17/50\n",
            "2/2 [==============================] - 0s 6ms/step - loss: 4.4573 - accuracy: 0.5781\n",
            "Epoch 18/50\n",
            "2/2 [==============================] - 0s 6ms/step - loss: 3.0463 - accuracy: 0.6094\n",
            "Epoch 19/50\n",
            "2/2 [==============================] - 0s 6ms/step - loss: 4.5167 - accuracy: 0.5781\n",
            "Epoch 20/50\n",
            "2/2 [==============================] - 0s 6ms/step - loss: 3.6579 - accuracy: 0.5312\n",
            "Epoch 21/50\n",
            "2/2 [==============================] - 0s 6ms/step - loss: 3.0179 - accuracy: 0.5156\n",
            "Epoch 22/50\n",
            "2/2 [==============================] - 0s 7ms/step - loss: 3.2433 - accuracy: 0.5625\n",
            "Epoch 23/50\n",
            "2/2 [==============================] - 0s 8ms/step - loss: 3.4544 - accuracy: 0.5000\n",
            "Epoch 24/50\n",
            "2/2 [==============================] - 0s 5ms/step - loss: 2.3124 - accuracy: 0.5312\n",
            "Epoch 25/50\n",
            "2/2 [==============================] - 0s 7ms/step - loss: 3.1277 - accuracy: 0.5156\n",
            "Epoch 26/50\n",
            "2/2 [==============================] - 0s 6ms/step - loss: 3.7945 - accuracy: 0.4375\n",
            "Epoch 27/50\n",
            "2/2 [==============================] - 0s 7ms/step - loss: 2.1649 - accuracy: 0.5625\n",
            "Epoch 28/50\n",
            "2/2 [==============================] - 0s 7ms/step - loss: 2.4094 - accuracy: 0.5938\n",
            "Epoch 29/50\n",
            "2/2 [==============================] - 0s 6ms/step - loss: 2.2775 - accuracy: 0.5312\n",
            "Epoch 30/50\n",
            "2/2 [==============================] - 0s 9ms/step - loss: 1.7964 - accuracy: 0.6094\n",
            "Epoch 31/50\n",
            "2/2 [==============================] - 0s 6ms/step - loss: 1.7694 - accuracy: 0.5938\n",
            "Epoch 32/50\n",
            "2/2 [==============================] - 0s 6ms/step - loss: 1.9525 - accuracy: 0.6094\n",
            "Epoch 33/50\n",
            "2/2 [==============================] - 0s 6ms/step - loss: 1.9612 - accuracy: 0.5938\n",
            "Epoch 34/50\n",
            "2/2 [==============================] - 0s 6ms/step - loss: 1.7512 - accuracy: 0.6406\n",
            "Epoch 35/50\n",
            "2/2 [==============================] - 0s 6ms/step - loss: 0.9637 - accuracy: 0.6250\n",
            "Epoch 36/50\n",
            "2/2 [==============================] - 0s 6ms/step - loss: 1.6313 - accuracy: 0.5000\n",
            "Epoch 37/50\n",
            "2/2 [==============================] - 0s 7ms/step - loss: 1.2222 - accuracy: 0.5781\n",
            "Epoch 38/50\n",
            "2/2 [==============================] - 0s 7ms/step - loss: 1.2548 - accuracy: 0.6250\n",
            "Epoch 39/50\n",
            "2/2 [==============================] - 0s 7ms/step - loss: 1.5671 - accuracy: 0.4531\n",
            "Epoch 40/50\n",
            "2/2 [==============================] - 0s 7ms/step - loss: 1.1939 - accuracy: 0.5469\n",
            "Epoch 41/50\n",
            "2/2 [==============================] - 0s 6ms/step - loss: 1.5802 - accuracy: 0.5000\n",
            "Epoch 42/50\n",
            "2/2 [==============================] - 0s 6ms/step - loss: 1.2379 - accuracy: 0.5938\n",
            "Epoch 43/50\n",
            "2/2 [==============================] - 0s 6ms/step - loss: 1.6009 - accuracy: 0.5000\n",
            "Epoch 44/50\n",
            "2/2 [==============================] - 0s 6ms/step - loss: 1.0561 - accuracy: 0.6094\n",
            "Epoch 45/50\n",
            "2/2 [==============================] - 0s 6ms/step - loss: 1.4376 - accuracy: 0.5312\n",
            "Epoch 46/50\n",
            "2/2 [==============================] - 0s 7ms/step - loss: 1.9497 - accuracy: 0.4688\n",
            "Epoch 47/50\n",
            "2/2 [==============================] - 0s 7ms/step - loss: 1.3778 - accuracy: 0.5312\n",
            "Epoch 48/50\n",
            "2/2 [==============================] - 0s 6ms/step - loss: 1.0343 - accuracy: 0.5938\n",
            "Epoch 49/50\n",
            "2/2 [==============================] - 0s 6ms/step - loss: 0.7505 - accuracy: 0.6406\n",
            "Epoch 50/50\n",
            "2/2 [==============================] - 0s 5ms/step - loss: 1.2713 - accuracy: 0.5156\n"
          ]
        },
        {
          "output_type": "execute_result",
          "data": {
            "text/plain": [
              "<keras.callbacks.History at 0x7fbf0141f2d0>"
            ]
          },
          "metadata": {},
          "execution_count": 8
        }
      ]
    },
    {
      "cell_type": "code",
      "source": [
        "model.evaluate(X_test, y_test)"
      ],
      "metadata": {
        "colab": {
          "base_uri": "https://localhost:8080/"
        },
        "id": "1lxhudASHbJb",
        "outputId": "bfa72efa-c633-43bb-9e02-b88b5dec427a"
      },
      "execution_count": null,
      "outputs": [
        {
          "output_type": "stream",
          "name": "stdout",
          "text": [
            "1/1 [==============================] - 0s 166ms/step - loss: 0.5199 - accuracy: 0.8235\n"
          ]
        },
        {
          "output_type": "execute_result",
          "data": {
            "text/plain": [
              "[0.5199350714683533, 0.8235294222831726]"
            ]
          },
          "metadata": {},
          "execution_count": 9
        }
      ]
    },
    {
      "cell_type": "code",
      "source": [
        "yp = model.predict(X_test)\n",
        "y_pred = []\n",
        "for element in yp:\n",
        "    if element > 0.5:\n",
        "        y_pred.append(1)\n",
        "    else:\n",
        "        y_pred.append(0)"
      ],
      "metadata": {
        "id": "tYW9dFY2HkPi"
      },
      "execution_count": null,
      "outputs": []
    },
    {
      "cell_type": "code",
      "source": [
        "from sklearn.metrics import confusion_matrix , classification_report\n",
        "\n",
        "print(classification_report(y_test,y_pred))"
      ],
      "metadata": {
        "colab": {
          "base_uri": "https://localhost:8080/"
        },
        "id": "DYvVfbl1Hnln",
        "outputId": "a0e7c29e-de70-4c18-c116-96c01c23a865"
      },
      "execution_count": null,
      "outputs": [
        {
          "output_type": "stream",
          "name": "stdout",
          "text": [
            "              precision    recall  f1-score   support\n",
            "\n",
            "           0       1.00      0.40      0.57         5\n",
            "           1       0.80      1.00      0.89        12\n",
            "\n",
            "    accuracy                           0.82        17\n",
            "   macro avg       0.90      0.70      0.73        17\n",
            "weighted avg       0.86      0.82      0.80        17\n",
            "\n"
          ]
        }
      ]
    },
    {
      "cell_type": "code",
      "source": [
        "test_eval = model.evaluate(X_test, y_test, verbose=0)\n",
        "print('Test loss:', test_eval[0])\n",
        "print('Test accuracy:', test_eval[1])"
      ],
      "metadata": {
        "id": "nxNLbrNQHs3i",
        "outputId": "a45529e0-7a0b-4914-9474-45004d663a5d",
        "colab": {
          "base_uri": "https://localhost:8080/"
        }
      },
      "execution_count": null,
      "outputs": [
        {
          "output_type": "stream",
          "name": "stdout",
          "text": [
            "Test loss: 0.5199350714683533\n",
            "Test accuracy: 0.8235294222831726\n"
          ]
        }
      ]
    }
  ]
}