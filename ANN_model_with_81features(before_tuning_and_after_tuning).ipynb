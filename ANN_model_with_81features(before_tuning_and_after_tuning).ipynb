{
  "nbformat": 4,
  "nbformat_minor": 0,
  "metadata": {
    "colab": {
      "name": "ANN_model_with_81features(before_tuning and after tuning).ipynb",
      "provenance": []
    },
    "kernelspec": {
      "name": "python3",
      "display_name": "Python 3"
    },
    "language_info": {
      "name": "python"
    }
  },
  "cells": [
    {
      "cell_type": "code",
      "execution_count": null,
      "metadata": {
        "colab": {
          "base_uri": "https://localhost:8080/"
        },
        "id": "x0pEr7eAg1KN",
        "outputId": "091b93d7-22e0-4d40-b276-3a12b8ca76d3"
      },
      "outputs": [
        {
          "output_type": "stream",
          "name": "stdout",
          "text": [
            "Mounted at /content/drive\n"
          ]
        }
      ],
      "source": [
        "from google.colab import drive\n",
        "drive.mount('/content/drive')"
      ]
    },
    {
      "cell_type": "code",
      "source": [
        "# This Python 3 environment comes with many helpful analytics libraries installed\n",
        "# It is defined by the kaggle/python docker image: https://github.com/kaggle/docker-python\n",
        "# For example, here's several helpful packages to load in \n",
        "# Reproducibility\n",
        "\n",
        "import numpy as np # linear algebra\n",
        "import pandas as pd # data processing, CSV file I/O (e.g. pd.read_csv)\n",
        "import seaborn as sns\n",
        "import matplotlib.pyplot as plt\n",
        "# import warnings\n",
        "import warnings\n",
        "# filter warnings\n",
        "warnings.filterwarnings('ignore')\n",
        "np.random.seed(0)\n",
        "# Input data files are available in the \"../input/\" directory.\n",
        "# For example, running this (by clicking run or pressing Shift+Enter) will list the files in the input directory\n",
        "# PyTorch\n",
        "import torch\n",
        "import torch.nn as nn\n",
        "import torch.nn.functional as F\n",
        "import torch.optim as optim\n",
        "from torch.utils.data import Dataset, DataLoader"
      ],
      "metadata": {
        "id": "XmdNIEBdhIh2"
      },
      "execution_count": null,
      "outputs": []
    },
    {
      "cell_type": "code",
      "source": [
        "# import important library\n",
        "import glob\n",
        "import pandas as pd\n",
        "import matplotlib.pyplot as plt\n",
        "import matplotlib as mpl\n",
        "import numpy as np\n",
        "import seaborn as sns\n",
        "from scipy import stats\n",
        "import os\n",
        "from collections import Counter\n",
        "\n",
        "%matplotlib inline\n",
        "import pickle\n",
        "import warnings\n",
        "from sklearn import metrics\n",
        "from sklearn.preprocessing import LabelEncoder\n",
        "from sklearn.base import clone\n",
        "from sklearn.preprocessing import label_binarize\n",
        "from scipy import interp\n",
        "from sklearn.metrics import roc_curve, auc \n",
        "\n",
        "from matplotlib.legend_handler import HandlerLine2D\n",
        "import time\n",
        "\n",
        "import sklearn\n",
        "from sklearn.model_selection import train_test_split\n",
        "from sklearn.preprocessing import StandardScaler\n",
        "from sklearn.preprocessing import MinMaxScaler\n",
        "from sklearn.preprocessing import LabelEncoder\n",
        "from sklearn.linear_model import LogisticRegression\n",
        "from sklearn.naive_bayes import GaussianNB\n",
        "from sklearn.tree import DecisionTreeClassifier\n",
        "from sklearn.ensemble import RandomForestClassifier\n",
        "from sklearn import svm\n",
        "from sklearn.svm import SVC\n",
        "from sklearn.ensemble import GradientBoostingClassifier\n",
        "from sklearn.neural_network import MLPClassifier\n",
        "from sklearn.metrics import classification_report\n",
        "\n",
        "from sklearn.preprocessing import StandardScaler\n",
        "from sklearn.decomposition import PCA\n",
        "from sklearn.pipeline import Pipeline\n",
        "from sklearn.model_selection import train_test_split\n",
        "from sklearn.model_selection import GridSearchCV\n",
        "from sklearn.model_selection import RandomizedSearchCV\n",
        "from sklearn.model_selection import cross_val_score\n",
        "\n",
        "from xgboost import XGBClassifier\n",
        "\n",
        "from sklearn.metrics import accuracy_score\n",
        "#from sklearn.externals import joblib"
      ],
      "metadata": {
        "id": "KRAO6nNLhNuf"
      },
      "execution_count": null,
      "outputs": []
    },
    {
      "cell_type": "code",
      "source": [
        "f_vector = pd.read_csv('/content/drive/MyDrive/CSE499B/Feature_vector_81.csv')\n",
        "f_vector.head()"
      ],
      "metadata": {
        "colab": {
          "base_uri": "https://localhost:8080/",
          "height": 236
        },
        "id": "S3j5J88LhQt6",
        "outputId": "f2c414d5-4f8d-487d-a937-41d895971b9c"
      },
      "execution_count": null,
      "outputs": [
        {
          "output_type": "execute_result",
          "data": {
            "text/plain": [
              "       f1c1      f1c2      f1c3      f1c4      f1c5      f1c6      f1c7  \\\n",
              "0  1.319238  1.649933  1.764590  1.534097  1.306506  2.514998  1.442240   \n",
              "1  2.260318  2.349516  2.285102  2.371036  1.723475  2.354274  1.938889   \n",
              "2  0.881155  0.549112 -0.009987  0.481874  0.616842  0.255339  0.236800   \n",
              "3  0.328330  0.380961  0.402019  0.302958  0.721228  0.672094  0.279890   \n",
              "4  0.535113  1.550108  2.250864  1.378335  1.476941  1.477652  2.206167   \n",
              "\n",
              "       f1c8      f1c9      f2c1  ...      p5c1      p5c2      p5c3      p5c4  \\\n",
              "0  2.010884  1.819087  6.019772  ...  1.797214  1.589979  1.508731  1.750036   \n",
              "1  2.088486  1.822621  4.532200  ...  2.847430  2.468363  2.475560  2.852187   \n",
              "2 -0.273485  0.047532  5.899954  ...  2.795483  2.967400  2.478721  3.613074   \n",
              "3  0.338119  0.285035  1.727734  ...  2.638754  2.326181  2.539087  2.771569   \n",
              "4  1.589180  2.231173  2.631363  ...  2.433947  2.111815  2.187645  2.832316   \n",
              "\n",
              "       p5c5      p5c6      p5c7      p5c8      p5c9  label  \n",
              "0  1.837351  1.716106  1.886707  1.613818  1.696078      0  \n",
              "1  3.900093  2.878861  3.402330  3.174722  3.616891      0  \n",
              "2  4.194302  3.455086  3.332238  3.230821  3.102742      0  \n",
              "3  3.194668  2.511841  2.843321  2.855719  3.362964      0  \n",
              "4  2.764801  2.873741  2.587403  3.229259  2.948791      0  \n",
              "\n",
              "[5 rows x 82 columns]"
            ],
            "text/html": [
              "\n",
              "  <div id=\"df-67ab7f11-45da-45b5-af14-29be751bef12\">\n",
              "    <div class=\"colab-df-container\">\n",
              "      <div>\n",
              "<style scoped>\n",
              "    .dataframe tbody tr th:only-of-type {\n",
              "        vertical-align: middle;\n",
              "    }\n",
              "\n",
              "    .dataframe tbody tr th {\n",
              "        vertical-align: top;\n",
              "    }\n",
              "\n",
              "    .dataframe thead th {\n",
              "        text-align: right;\n",
              "    }\n",
              "</style>\n",
              "<table border=\"1\" class=\"dataframe\">\n",
              "  <thead>\n",
              "    <tr style=\"text-align: right;\">\n",
              "      <th></th>\n",
              "      <th>f1c1</th>\n",
              "      <th>f1c2</th>\n",
              "      <th>f1c3</th>\n",
              "      <th>f1c4</th>\n",
              "      <th>f1c5</th>\n",
              "      <th>f1c6</th>\n",
              "      <th>f1c7</th>\n",
              "      <th>f1c8</th>\n",
              "      <th>f1c9</th>\n",
              "      <th>f2c1</th>\n",
              "      <th>...</th>\n",
              "      <th>p5c1</th>\n",
              "      <th>p5c2</th>\n",
              "      <th>p5c3</th>\n",
              "      <th>p5c4</th>\n",
              "      <th>p5c5</th>\n",
              "      <th>p5c6</th>\n",
              "      <th>p5c7</th>\n",
              "      <th>p5c8</th>\n",
              "      <th>p5c9</th>\n",
              "      <th>label</th>\n",
              "    </tr>\n",
              "  </thead>\n",
              "  <tbody>\n",
              "    <tr>\n",
              "      <th>0</th>\n",
              "      <td>1.319238</td>\n",
              "      <td>1.649933</td>\n",
              "      <td>1.764590</td>\n",
              "      <td>1.534097</td>\n",
              "      <td>1.306506</td>\n",
              "      <td>2.514998</td>\n",
              "      <td>1.442240</td>\n",
              "      <td>2.010884</td>\n",
              "      <td>1.819087</td>\n",
              "      <td>6.019772</td>\n",
              "      <td>...</td>\n",
              "      <td>1.797214</td>\n",
              "      <td>1.589979</td>\n",
              "      <td>1.508731</td>\n",
              "      <td>1.750036</td>\n",
              "      <td>1.837351</td>\n",
              "      <td>1.716106</td>\n",
              "      <td>1.886707</td>\n",
              "      <td>1.613818</td>\n",
              "      <td>1.696078</td>\n",
              "      <td>0</td>\n",
              "    </tr>\n",
              "    <tr>\n",
              "      <th>1</th>\n",
              "      <td>2.260318</td>\n",
              "      <td>2.349516</td>\n",
              "      <td>2.285102</td>\n",
              "      <td>2.371036</td>\n",
              "      <td>1.723475</td>\n",
              "      <td>2.354274</td>\n",
              "      <td>1.938889</td>\n",
              "      <td>2.088486</td>\n",
              "      <td>1.822621</td>\n",
              "      <td>4.532200</td>\n",
              "      <td>...</td>\n",
              "      <td>2.847430</td>\n",
              "      <td>2.468363</td>\n",
              "      <td>2.475560</td>\n",
              "      <td>2.852187</td>\n",
              "      <td>3.900093</td>\n",
              "      <td>2.878861</td>\n",
              "      <td>3.402330</td>\n",
              "      <td>3.174722</td>\n",
              "      <td>3.616891</td>\n",
              "      <td>0</td>\n",
              "    </tr>\n",
              "    <tr>\n",
              "      <th>2</th>\n",
              "      <td>0.881155</td>\n",
              "      <td>0.549112</td>\n",
              "      <td>-0.009987</td>\n",
              "      <td>0.481874</td>\n",
              "      <td>0.616842</td>\n",
              "      <td>0.255339</td>\n",
              "      <td>0.236800</td>\n",
              "      <td>-0.273485</td>\n",
              "      <td>0.047532</td>\n",
              "      <td>5.899954</td>\n",
              "      <td>...</td>\n",
              "      <td>2.795483</td>\n",
              "      <td>2.967400</td>\n",
              "      <td>2.478721</td>\n",
              "      <td>3.613074</td>\n",
              "      <td>4.194302</td>\n",
              "      <td>3.455086</td>\n",
              "      <td>3.332238</td>\n",
              "      <td>3.230821</td>\n",
              "      <td>3.102742</td>\n",
              "      <td>0</td>\n",
              "    </tr>\n",
              "    <tr>\n",
              "      <th>3</th>\n",
              "      <td>0.328330</td>\n",
              "      <td>0.380961</td>\n",
              "      <td>0.402019</td>\n",
              "      <td>0.302958</td>\n",
              "      <td>0.721228</td>\n",
              "      <td>0.672094</td>\n",
              "      <td>0.279890</td>\n",
              "      <td>0.338119</td>\n",
              "      <td>0.285035</td>\n",
              "      <td>1.727734</td>\n",
              "      <td>...</td>\n",
              "      <td>2.638754</td>\n",
              "      <td>2.326181</td>\n",
              "      <td>2.539087</td>\n",
              "      <td>2.771569</td>\n",
              "      <td>3.194668</td>\n",
              "      <td>2.511841</td>\n",
              "      <td>2.843321</td>\n",
              "      <td>2.855719</td>\n",
              "      <td>3.362964</td>\n",
              "      <td>0</td>\n",
              "    </tr>\n",
              "    <tr>\n",
              "      <th>4</th>\n",
              "      <td>0.535113</td>\n",
              "      <td>1.550108</td>\n",
              "      <td>2.250864</td>\n",
              "      <td>1.378335</td>\n",
              "      <td>1.476941</td>\n",
              "      <td>1.477652</td>\n",
              "      <td>2.206167</td>\n",
              "      <td>1.589180</td>\n",
              "      <td>2.231173</td>\n",
              "      <td>2.631363</td>\n",
              "      <td>...</td>\n",
              "      <td>2.433947</td>\n",
              "      <td>2.111815</td>\n",
              "      <td>2.187645</td>\n",
              "      <td>2.832316</td>\n",
              "      <td>2.764801</td>\n",
              "      <td>2.873741</td>\n",
              "      <td>2.587403</td>\n",
              "      <td>3.229259</td>\n",
              "      <td>2.948791</td>\n",
              "      <td>0</td>\n",
              "    </tr>\n",
              "  </tbody>\n",
              "</table>\n",
              "<p>5 rows × 82 columns</p>\n",
              "</div>\n",
              "      <button class=\"colab-df-convert\" onclick=\"convertToInteractive('df-67ab7f11-45da-45b5-af14-29be751bef12')\"\n",
              "              title=\"Convert this dataframe to an interactive table.\"\n",
              "              style=\"display:none;\">\n",
              "        \n",
              "  <svg xmlns=\"http://www.w3.org/2000/svg\" height=\"24px\"viewBox=\"0 0 24 24\"\n",
              "       width=\"24px\">\n",
              "    <path d=\"M0 0h24v24H0V0z\" fill=\"none\"/>\n",
              "    <path d=\"M18.56 5.44l.94 2.06.94-2.06 2.06-.94-2.06-.94-.94-2.06-.94 2.06-2.06.94zm-11 1L8.5 8.5l.94-2.06 2.06-.94-2.06-.94L8.5 2.5l-.94 2.06-2.06.94zm10 10l.94 2.06.94-2.06 2.06-.94-2.06-.94-.94-2.06-.94 2.06-2.06.94z\"/><path d=\"M17.41 7.96l-1.37-1.37c-.4-.4-.92-.59-1.43-.59-.52 0-1.04.2-1.43.59L10.3 9.45l-7.72 7.72c-.78.78-.78 2.05 0 2.83L4 21.41c.39.39.9.59 1.41.59.51 0 1.02-.2 1.41-.59l7.78-7.78 2.81-2.81c.8-.78.8-2.07 0-2.86zM5.41 20L4 18.59l7.72-7.72 1.47 1.35L5.41 20z\"/>\n",
              "  </svg>\n",
              "      </button>\n",
              "      \n",
              "  <style>\n",
              "    .colab-df-container {\n",
              "      display:flex;\n",
              "      flex-wrap:wrap;\n",
              "      gap: 12px;\n",
              "    }\n",
              "\n",
              "    .colab-df-convert {\n",
              "      background-color: #E8F0FE;\n",
              "      border: none;\n",
              "      border-radius: 50%;\n",
              "      cursor: pointer;\n",
              "      display: none;\n",
              "      fill: #1967D2;\n",
              "      height: 32px;\n",
              "      padding: 0 0 0 0;\n",
              "      width: 32px;\n",
              "    }\n",
              "\n",
              "    .colab-df-convert:hover {\n",
              "      background-color: #E2EBFA;\n",
              "      box-shadow: 0px 1px 2px rgba(60, 64, 67, 0.3), 0px 1px 3px 1px rgba(60, 64, 67, 0.15);\n",
              "      fill: #174EA6;\n",
              "    }\n",
              "\n",
              "    [theme=dark] .colab-df-convert {\n",
              "      background-color: #3B4455;\n",
              "      fill: #D2E3FC;\n",
              "    }\n",
              "\n",
              "    [theme=dark] .colab-df-convert:hover {\n",
              "      background-color: #434B5C;\n",
              "      box-shadow: 0px 1px 3px 1px rgba(0, 0, 0, 0.15);\n",
              "      filter: drop-shadow(0px 1px 2px rgba(0, 0, 0, 0.3));\n",
              "      fill: #FFFFFF;\n",
              "    }\n",
              "  </style>\n",
              "\n",
              "      <script>\n",
              "        const buttonEl =\n",
              "          document.querySelector('#df-67ab7f11-45da-45b5-af14-29be751bef12 button.colab-df-convert');\n",
              "        buttonEl.style.display =\n",
              "          google.colab.kernel.accessAllowed ? 'block' : 'none';\n",
              "\n",
              "        async function convertToInteractive(key) {\n",
              "          const element = document.querySelector('#df-67ab7f11-45da-45b5-af14-29be751bef12');\n",
              "          const dataTable =\n",
              "            await google.colab.kernel.invokeFunction('convertToInteractive',\n",
              "                                                     [key], {});\n",
              "          if (!dataTable) return;\n",
              "\n",
              "          const docLinkHtml = 'Like what you see? Visit the ' +\n",
              "            '<a target=\"_blank\" href=https://colab.research.google.com/notebooks/data_table.ipynb>data table notebook</a>'\n",
              "            + ' to learn more about interactive tables.';\n",
              "          element.innerHTML = '';\n",
              "          dataTable['output_type'] = 'display_data';\n",
              "          await google.colab.output.renderOutput(dataTable, element);\n",
              "          const docLink = document.createElement('div');\n",
              "          docLink.innerHTML = docLinkHtml;\n",
              "          element.appendChild(docLink);\n",
              "        }\n",
              "      </script>\n",
              "    </div>\n",
              "  </div>\n",
              "  "
            ]
          },
          "metadata": {},
          "execution_count": 4
        }
      ]
    },
    {
      "cell_type": "code",
      "source": [
        "f_vector.dtypes\n"
      ],
      "metadata": {
        "colab": {
          "base_uri": "https://localhost:8080/"
        },
        "id": "M48nBvWXhfjE",
        "outputId": "2c8c6c26-52a0-45ef-e26f-70edfe39e537"
      },
      "execution_count": null,
      "outputs": [
        {
          "output_type": "execute_result",
          "data": {
            "text/plain": [
              "f1c1     float64\n",
              "f1c2     float64\n",
              "f1c3     float64\n",
              "f1c4     float64\n",
              "f1c5     float64\n",
              "          ...   \n",
              "p5c6     float64\n",
              "p5c7     float64\n",
              "p5c8     float64\n",
              "p5c9     float64\n",
              "label      int64\n",
              "Length: 82, dtype: object"
            ]
          },
          "metadata": {},
          "execution_count": 6
        }
      ]
    },
    {
      "cell_type": "code",
      "source": [
        "X = f_vector.drop('label',axis='columns')\n",
        "y = f_vector['label']\n",
        "\n",
        "from sklearn.model_selection import train_test_split\n",
        "X_train, X_test, y_train, y_test = train_test_split(X,y,test_size=0.2,random_state=2)"
      ],
      "metadata": {
        "id": "eln1mr6Z0FTn"
      },
      "execution_count": null,
      "outputs": []
    },
    {
      "cell_type": "code",
      "source": [
        "import tensorflow as tf\n",
        "from tensorflow import keras\n",
        "\n",
        "\n",
        "model = keras.Sequential([\n",
        "    keras.layers.Dense(81, input_shape=(81,), activation='relu'),\n",
        "    keras.layers.Dense(60, activation='relu'),\n",
        "    keras.layers.Dense(1, activation='sigmoid')\n",
        "])\n",
        "\n",
        "model.compile(optimizer='adam',\n",
        "              loss='binary_crossentropy',\n",
        "              metrics=['accuracy'])\n",
        "model.fit(X_train, y_train, epochs=50)"
      ],
      "metadata": {
        "colab": {
          "base_uri": "https://localhost:8080/"
        },
        "id": "FAbbo5XD0Mdt",
        "outputId": "cca4b1fa-0020-4db9-cb2e-1645f15e93a1"
      },
      "execution_count": null,
      "outputs": [
        {
          "output_type": "stream",
          "name": "stdout",
          "text": [
            "Epoch 1/50\n",
            "2/2 [==============================] - 1s 8ms/step - loss: 26.0552 - accuracy: 0.5938\n",
            "Epoch 2/50\n",
            "2/2 [==============================] - 0s 6ms/step - loss: 8.3232 - accuracy: 0.4844\n",
            "Epoch 3/50\n",
            "2/2 [==============================] - 0s 7ms/step - loss: 13.6986 - accuracy: 0.4531\n",
            "Epoch 4/50\n",
            "2/2 [==============================] - 0s 7ms/step - loss: 8.3883 - accuracy: 0.5000\n",
            "Epoch 5/50\n",
            "2/2 [==============================] - 0s 7ms/step - loss: 6.3930 - accuracy: 0.5156\n",
            "Epoch 6/50\n",
            "2/2 [==============================] - 0s 6ms/step - loss: 7.9002 - accuracy: 0.5000\n",
            "Epoch 7/50\n",
            "2/2 [==============================] - 0s 11ms/step - loss: 5.7959 - accuracy: 0.5312\n",
            "Epoch 8/50\n",
            "2/2 [==============================] - 0s 8ms/step - loss: 3.9854 - accuracy: 0.5312\n",
            "Epoch 9/50\n",
            "2/2 [==============================] - 0s 5ms/step - loss: 4.9236 - accuracy: 0.5000\n",
            "Epoch 10/50\n",
            "2/2 [==============================] - 0s 6ms/step - loss: 3.3433 - accuracy: 0.5156\n",
            "Epoch 11/50\n",
            "2/2 [==============================] - 0s 6ms/step - loss: 2.9323 - accuracy: 0.6094\n",
            "Epoch 12/50\n",
            "2/2 [==============================] - 0s 6ms/step - loss: 3.4007 - accuracy: 0.6094\n",
            "Epoch 13/50\n",
            "2/2 [==============================] - 0s 7ms/step - loss: 2.6369 - accuracy: 0.5000\n",
            "Epoch 14/50\n",
            "2/2 [==============================] - 0s 6ms/step - loss: 2.8949 - accuracy: 0.5312\n",
            "Epoch 15/50\n",
            "2/2 [==============================] - 0s 6ms/step - loss: 2.0052 - accuracy: 0.5156\n",
            "Epoch 16/50\n",
            "2/2 [==============================] - 0s 6ms/step - loss: 2.0396 - accuracy: 0.5781\n",
            "Epoch 17/50\n",
            "2/2 [==============================] - 0s 6ms/step - loss: 1.8792 - accuracy: 0.5938\n",
            "Epoch 18/50\n",
            "2/2 [==============================] - 0s 6ms/step - loss: 1.7192 - accuracy: 0.5938\n",
            "Epoch 19/50\n",
            "2/2 [==============================] - 0s 6ms/step - loss: 1.6954 - accuracy: 0.6250\n",
            "Epoch 20/50\n",
            "2/2 [==============================] - 0s 7ms/step - loss: 1.4082 - accuracy: 0.5625\n",
            "Epoch 21/50\n",
            "2/2 [==============================] - 0s 12ms/step - loss: 1.3437 - accuracy: 0.6250\n",
            "Epoch 22/50\n",
            "2/2 [==============================] - 0s 7ms/step - loss: 1.1340 - accuracy: 0.6406\n",
            "Epoch 23/50\n",
            "2/2 [==============================] - 0s 6ms/step - loss: 1.1684 - accuracy: 0.7031\n",
            "Epoch 24/50\n",
            "2/2 [==============================] - 0s 7ms/step - loss: 1.0529 - accuracy: 0.6250\n",
            "Epoch 25/50\n",
            "2/2 [==============================] - 0s 7ms/step - loss: 1.0331 - accuracy: 0.6875\n",
            "Epoch 26/50\n",
            "2/2 [==============================] - 0s 7ms/step - loss: 1.1178 - accuracy: 0.6250\n",
            "Epoch 27/50\n",
            "2/2 [==============================] - 0s 7ms/step - loss: 0.8940 - accuracy: 0.6719\n",
            "Epoch 28/50\n",
            "2/2 [==============================] - 0s 8ms/step - loss: 1.0829 - accuracy: 0.6562\n",
            "Epoch 29/50\n",
            "2/2 [==============================] - 0s 14ms/step - loss: 0.7490 - accuracy: 0.7188\n",
            "Epoch 30/50\n",
            "2/2 [==============================] - 0s 10ms/step - loss: 1.0614 - accuracy: 0.6719\n",
            "Epoch 31/50\n",
            "2/2 [==============================] - 0s 7ms/step - loss: 0.8567 - accuracy: 0.6875\n",
            "Epoch 32/50\n",
            "2/2 [==============================] - 0s 10ms/step - loss: 0.8331 - accuracy: 0.7188\n",
            "Epoch 33/50\n",
            "2/2 [==============================] - 0s 8ms/step - loss: 0.8147 - accuracy: 0.7188\n",
            "Epoch 34/50\n",
            "2/2 [==============================] - 0s 7ms/step - loss: 0.6550 - accuracy: 0.7188\n",
            "Epoch 35/50\n",
            "2/2 [==============================] - 0s 8ms/step - loss: 0.7408 - accuracy: 0.7656\n",
            "Epoch 36/50\n",
            "2/2 [==============================] - 0s 9ms/step - loss: 0.6387 - accuracy: 0.7344\n",
            "Epoch 37/50\n",
            "2/2 [==============================] - 0s 8ms/step - loss: 0.6306 - accuracy: 0.7500\n",
            "Epoch 38/50\n",
            "2/2 [==============================] - 0s 7ms/step - loss: 0.6371 - accuracy: 0.7656\n",
            "Epoch 39/50\n",
            "2/2 [==============================] - 0s 8ms/step - loss: 0.5536 - accuracy: 0.7500\n",
            "Epoch 40/50\n",
            "2/2 [==============================] - 0s 6ms/step - loss: 0.5801 - accuracy: 0.7656\n",
            "Epoch 41/50\n",
            "2/2 [==============================] - 0s 6ms/step - loss: 0.5438 - accuracy: 0.7969\n",
            "Epoch 42/50\n",
            "2/2 [==============================] - 0s 5ms/step - loss: 0.5130 - accuracy: 0.7812\n",
            "Epoch 43/50\n",
            "2/2 [==============================] - 0s 10ms/step - loss: 0.7163 - accuracy: 0.6719\n",
            "Epoch 44/50\n",
            "2/2 [==============================] - 0s 7ms/step - loss: 0.6962 - accuracy: 0.7656\n",
            "Epoch 45/50\n",
            "2/2 [==============================] - 0s 9ms/step - loss: 0.4502 - accuracy: 0.7656\n",
            "Epoch 46/50\n",
            "2/2 [==============================] - 0s 6ms/step - loss: 0.6376 - accuracy: 0.7344\n",
            "Epoch 47/50\n",
            "2/2 [==============================] - 0s 5ms/step - loss: 0.6777 - accuracy: 0.7500\n",
            "Epoch 48/50\n",
            "2/2 [==============================] - 0s 6ms/step - loss: 0.4431 - accuracy: 0.8125\n",
            "Epoch 49/50\n",
            "2/2 [==============================] - 0s 6ms/step - loss: 0.6491 - accuracy: 0.7188\n",
            "Epoch 50/50\n",
            "2/2 [==============================] - 0s 6ms/step - loss: 0.5023 - accuracy: 0.7656\n"
          ]
        },
        {
          "output_type": "execute_result",
          "data": {
            "text/plain": [
              "<keras.callbacks.History at 0x7fdf4007a850>"
            ]
          },
          "metadata": {},
          "execution_count": 8
        }
      ]
    },
    {
      "cell_type": "code",
      "source": [
        "test_eval = model.evaluate(X_test, y_test, verbose=0)\n",
        "print('Test loss:', test_eval[0])\n",
        "print('Test accuracy:', test_eval[1])"
      ],
      "metadata": {
        "colab": {
          "base_uri": "https://localhost:8080/"
        },
        "id": "1MLNx9BM2waL",
        "outputId": "7031268f-d1a2-4d50-f390-1c04ad164dd9"
      },
      "execution_count": null,
      "outputs": [
        {
          "output_type": "stream",
          "name": "stdout",
          "text": [
            "Test loss: 1.4277622699737549\n",
            "Test accuracy: 0.6470588445663452\n"
          ]
        }
      ]
    },
    {
      "cell_type": "code",
      "source": [
        "model.evaluate(X_test, y_test)"
      ],
      "metadata": {
        "colab": {
          "base_uri": "https://localhost:8080/"
        },
        "id": "nX4v2JkQ0XvX",
        "outputId": "e3f53556-f0fb-4b88-deb8-997a6b144394"
      },
      "execution_count": null,
      "outputs": [
        {
          "output_type": "stream",
          "name": "stdout",
          "text": [
            "1/1 [==============================] - 0s 26ms/step - loss: 1.4278 - accuracy: 0.6471\n"
          ]
        },
        {
          "output_type": "execute_result",
          "data": {
            "text/plain": [
              "[1.4277622699737549, 0.6470588445663452]"
            ]
          },
          "metadata": {},
          "execution_count": 10
        }
      ]
    },
    {
      "cell_type": "code",
      "source": [
        "yp = model.predict(X_test)\n",
        "yp[:5]"
      ],
      "metadata": {
        "colab": {
          "base_uri": "https://localhost:8080/"
        },
        "id": "MYl0t7xJ0ZEw",
        "outputId": "533427dd-48d2-42d3-a1c2-f8bc42dec2de"
      },
      "execution_count": null,
      "outputs": [
        {
          "output_type": "execute_result",
          "data": {
            "text/plain": [
              "array([[0.46374077],\n",
              "       [0.79923093],\n",
              "       [0.9999162 ],\n",
              "       [0.99980223],\n",
              "       [0.9812403 ]], dtype=float32)"
            ]
          },
          "metadata": {},
          "execution_count": 11
        }
      ]
    },
    {
      "cell_type": "code",
      "source": [
        "y_pred = []\n",
        "for element in yp:\n",
        "    if element > 0.5:\n",
        "        y_pred.append(1)\n",
        "    else:\n",
        "        y_pred.append(0)"
      ],
      "metadata": {
        "id": "cmhC90Ke0w9W"
      },
      "execution_count": null,
      "outputs": []
    },
    {
      "cell_type": "code",
      "source": [
        "y_pred[:10]"
      ],
      "metadata": {
        "colab": {
          "base_uri": "https://localhost:8080/"
        },
        "id": "QIw9Hvdl00S0",
        "outputId": "62b2489e-88d3-4d38-cc9b-3f02db21e5d5"
      },
      "execution_count": null,
      "outputs": [
        {
          "output_type": "execute_result",
          "data": {
            "text/plain": [
              "[0, 1, 1, 1, 1, 0, 1, 1, 1, 0]"
            ]
          },
          "metadata": {},
          "execution_count": 13
        }
      ]
    },
    {
      "cell_type": "code",
      "source": [
        "y_test[:10]"
      ],
      "metadata": {
        "colab": {
          "base_uri": "https://localhost:8080/"
        },
        "id": "sqESmliH0_WX",
        "outputId": "d4a492b5-3a24-4dac-9690-ce4b2f36db1f"
      },
      "execution_count": null,
      "outputs": [
        {
          "output_type": "execute_result",
          "data": {
            "text/plain": [
              "25    1\n",
              "30    1\n",
              "29    1\n",
              "78    1\n",
              "74    1\n",
              "57    1\n",
              "41    1\n",
              "71    1\n",
              "23    0\n",
              "14    0\n",
              "Name: label, dtype: int64"
            ]
          },
          "metadata": {},
          "execution_count": 14
        }
      ]
    },
    {
      "cell_type": "code",
      "source": [
        "from sklearn.metrics import confusion_matrix , classification_report\n",
        "\n",
        "print(classification_report(y_test,y_pred))"
      ],
      "metadata": {
        "colab": {
          "base_uri": "https://localhost:8080/"
        },
        "id": "TqS1Obhr04C_",
        "outputId": "cbe15060-d4bd-4d35-f2e0-a0a25cf51e4e"
      },
      "execution_count": null,
      "outputs": [
        {
          "output_type": "stream",
          "name": "stdout",
          "text": [
            "              precision    recall  f1-score   support\n",
            "\n",
            "           0       0.40      0.40      0.40         5\n",
            "           1       0.75      0.75      0.75        12\n",
            "\n",
            "    accuracy                           0.65        17\n",
            "   macro avg       0.57      0.57      0.58        17\n",
            "weighted avg       0.65      0.65      0.65        17\n",
            "\n"
          ]
        }
      ]
    },
    {
      "cell_type": "markdown",
      "source": [
        "#By changing activation function and adding dropout "
      ],
      "metadata": {
        "id": "qUtK0bnw1mlN"
      }
    },
    {
      "cell_type": "code",
      "source": [
        "import tensorflow as tf\n",
        "from tensorflow import keras\n",
        "from tensorflow.keras.layers import Dropout\n",
        "\n",
        "model3 = keras.Sequential([\n",
        "    keras.layers.Dense(81, input_shape=(81,), activation='LeakyReLU'),\n",
        "    keras.layers.Dense(60, activation='LeakyReLU'),\n",
        "    keras.layers.Dropout(0.25),\n",
        "    keras.layers.Dense(32, activation='LeakyReLU'),\n",
        "    keras.layers.Dropout(0.50),\n",
        "    keras.layers.Dense(1, activation='sigmoid'),\n",
        "\n",
        "])\n",
        "\n",
        "model3.compile(optimizer='adam',\n",
        "              loss='binary_crossentropy',\n",
        "              metrics=['accuracy'])\n",
        "model3.fit(X_train, y_train, epochs=50)"
      ],
      "metadata": {
        "colab": {
          "base_uri": "https://localhost:8080/"
        },
        "id": "njrwm-iW952h",
        "outputId": "93cb42e6-54b5-4316-e781-410b1f2147a8"
      },
      "execution_count": null,
      "outputs": [
        {
          "output_type": "stream",
          "name": "stdout",
          "text": [
            "Epoch 1/50\n",
            "2/2 [==============================] - 1s 7ms/step - loss: 0.7282 - accuracy: 0.4688\n",
            "Epoch 2/50\n",
            "2/2 [==============================] - 0s 6ms/step - loss: 0.7469 - accuracy: 0.5312\n",
            "Epoch 3/50\n",
            "2/2 [==============================] - 0s 6ms/step - loss: 0.7638 - accuracy: 0.4531\n",
            "Epoch 4/50\n",
            "2/2 [==============================] - 0s 9ms/step - loss: 0.6921 - accuracy: 0.5938\n",
            "Epoch 5/50\n",
            "2/2 [==============================] - 0s 7ms/step - loss: 0.7639 - accuracy: 0.4844\n",
            "Epoch 6/50\n",
            "2/2 [==============================] - 0s 6ms/step - loss: 0.6867 - accuracy: 0.4688\n",
            "Epoch 7/50\n",
            "2/2 [==============================] - 0s 6ms/step - loss: 0.7069 - accuracy: 0.5938\n",
            "Epoch 8/50\n",
            "2/2 [==============================] - 0s 7ms/step - loss: 0.7210 - accuracy: 0.5312\n",
            "Epoch 9/50\n",
            "2/2 [==============================] - 0s 6ms/step - loss: 0.7069 - accuracy: 0.5469\n",
            "Epoch 10/50\n",
            "2/2 [==============================] - 0s 8ms/step - loss: 0.6693 - accuracy: 0.5625\n",
            "Epoch 11/50\n",
            "2/2 [==============================] - 0s 7ms/step - loss: 0.6892 - accuracy: 0.5312\n",
            "Epoch 12/50\n",
            "2/2 [==============================] - 0s 8ms/step - loss: 0.6540 - accuracy: 0.6250\n",
            "Epoch 13/50\n",
            "2/2 [==============================] - 0s 7ms/step - loss: 0.7072 - accuracy: 0.4844\n",
            "Epoch 14/50\n",
            "2/2 [==============================] - 0s 5ms/step - loss: 0.6544 - accuracy: 0.6250\n",
            "Epoch 15/50\n",
            "2/2 [==============================] - 0s 6ms/step - loss: 0.6522 - accuracy: 0.5781\n",
            "Epoch 16/50\n",
            "2/2 [==============================] - 0s 7ms/step - loss: 0.6789 - accuracy: 0.5625\n",
            "Epoch 17/50\n",
            "2/2 [==============================] - 0s 8ms/step - loss: 0.7147 - accuracy: 0.5156\n",
            "Epoch 18/50\n",
            "2/2 [==============================] - 0s 7ms/step - loss: 0.6862 - accuracy: 0.6094\n",
            "Epoch 19/50\n",
            "2/2 [==============================] - 0s 9ms/step - loss: 0.6539 - accuracy: 0.6250\n",
            "Epoch 20/50\n",
            "2/2 [==============================] - 0s 8ms/step - loss: 0.7863 - accuracy: 0.5156\n",
            "Epoch 21/50\n",
            "2/2 [==============================] - 0s 6ms/step - loss: 0.7209 - accuracy: 0.5938\n",
            "Epoch 22/50\n",
            "2/2 [==============================] - 0s 8ms/step - loss: 0.7577 - accuracy: 0.4219\n",
            "Epoch 23/50\n",
            "2/2 [==============================] - 0s 6ms/step - loss: 0.7308 - accuracy: 0.5156\n",
            "Epoch 24/50\n",
            "2/2 [==============================] - 0s 7ms/step - loss: 0.7794 - accuracy: 0.4688\n",
            "Epoch 25/50\n",
            "2/2 [==============================] - 0s 6ms/step - loss: 0.7094 - accuracy: 0.5469\n",
            "Epoch 26/50\n",
            "2/2 [==============================] - 0s 7ms/step - loss: 0.7039 - accuracy: 0.5312\n",
            "Epoch 27/50\n",
            "2/2 [==============================] - 0s 7ms/step - loss: 0.7232 - accuracy: 0.4844\n",
            "Epoch 28/50\n",
            "2/2 [==============================] - 0s 6ms/step - loss: 0.7011 - accuracy: 0.4375\n",
            "Epoch 29/50\n",
            "2/2 [==============================] - 0s 10ms/step - loss: 0.7358 - accuracy: 0.4688\n",
            "Epoch 30/50\n",
            "2/2 [==============================] - 0s 10ms/step - loss: 0.6876 - accuracy: 0.6875\n",
            "Epoch 31/50\n",
            "2/2 [==============================] - 0s 8ms/step - loss: 0.6798 - accuracy: 0.5156\n",
            "Epoch 32/50\n",
            "2/2 [==============================] - 0s 7ms/step - loss: 0.6935 - accuracy: 0.5469\n",
            "Epoch 33/50\n",
            "2/2 [==============================] - 0s 5ms/step - loss: 0.6772 - accuracy: 0.6406\n",
            "Epoch 34/50\n",
            "2/2 [==============================] - 0s 8ms/step - loss: 0.6359 - accuracy: 0.6562\n",
            "Epoch 35/50\n",
            "2/2 [==============================] - 0s 6ms/step - loss: 0.6428 - accuracy: 0.5625\n",
            "Epoch 36/50\n",
            "2/2 [==============================] - 0s 6ms/step - loss: 0.6820 - accuracy: 0.5312\n",
            "Epoch 37/50\n",
            "2/2 [==============================] - 0s 9ms/step - loss: 0.6552 - accuracy: 0.6094\n",
            "Epoch 38/50\n",
            "2/2 [==============================] - 0s 6ms/step - loss: 0.6668 - accuracy: 0.5781\n",
            "Epoch 39/50\n",
            "2/2 [==============================] - 0s 8ms/step - loss: 0.6706 - accuracy: 0.5781\n",
            "Epoch 40/50\n",
            "2/2 [==============================] - 0s 7ms/step - loss: 0.7011 - accuracy: 0.5781\n",
            "Epoch 41/50\n",
            "2/2 [==============================] - 0s 6ms/step - loss: 0.6417 - accuracy: 0.5781\n",
            "Epoch 42/50\n",
            "2/2 [==============================] - 0s 7ms/step - loss: 0.6690 - accuracy: 0.5938\n",
            "Epoch 43/50\n",
            "2/2 [==============================] - 0s 7ms/step - loss: 0.6972 - accuracy: 0.6250\n",
            "Epoch 44/50\n",
            "2/2 [==============================] - 0s 6ms/step - loss: 0.6246 - accuracy: 0.6719\n",
            "Epoch 45/50\n",
            "2/2 [==============================] - 0s 6ms/step - loss: 0.7320 - accuracy: 0.5469\n",
            "Epoch 46/50\n",
            "2/2 [==============================] - 0s 7ms/step - loss: 0.6635 - accuracy: 0.6719\n",
            "Epoch 47/50\n",
            "2/2 [==============================] - 0s 7ms/step - loss: 0.6594 - accuracy: 0.6406\n",
            "Epoch 48/50\n",
            "2/2 [==============================] - 0s 6ms/step - loss: 0.6745 - accuracy: 0.5312\n",
            "Epoch 49/50\n",
            "2/2 [==============================] - 0s 6ms/step - loss: 0.6815 - accuracy: 0.5312\n",
            "Epoch 50/50\n",
            "2/2 [==============================] - 0s 6ms/step - loss: 0.6643 - accuracy: 0.5469\n"
          ]
        },
        {
          "output_type": "execute_result",
          "data": {
            "text/plain": [
              "<keras.callbacks.History at 0x7fdf320501d0>"
            ]
          },
          "metadata": {},
          "execution_count": 47
        }
      ]
    },
    {
      "cell_type": "code",
      "source": [
        "test_eval3 = model3.evaluate(X_test, y_test, verbose=0)\n",
        "print('Test loss:', test_eval3[0])\n",
        "print('Test accuracy:', test_eval3[1])"
      ],
      "metadata": {
        "colab": {
          "base_uri": "https://localhost:8080/"
        },
        "id": "MEKfyP5o-NAg",
        "outputId": "037bf5c1-e78a-4bfc-9abf-8a3827476b31"
      },
      "execution_count": null,
      "outputs": [
        {
          "output_type": "stream",
          "name": "stdout",
          "text": [
            "Test loss: 0.6443116068840027\n",
            "Test accuracy: 0.7058823704719543\n"
          ]
        }
      ]
    }
  ]
}