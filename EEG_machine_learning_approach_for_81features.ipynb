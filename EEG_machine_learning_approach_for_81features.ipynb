{
  "nbformat": 4,
  "nbformat_minor": 0,
  "metadata": {
    "colab": {
      "name": "EEG_machine_learning_approach_for_81features.ipynb",
      "provenance": []
    },
    "kernelspec": {
      "name": "python3",
      "display_name": "Python 3"
    },
    "language_info": {
      "name": "python"
    }
  },
  "cells": [
    {
      "cell_type": "code",
      "execution_count": 1,
      "metadata": {
        "colab": {
          "base_uri": "https://localhost:8080/"
        },
        "id": "V7dHJ_9-S-Wr",
        "outputId": "9798349f-cce4-4594-c063-629bed905b8d"
      },
      "outputs": [
        {
          "output_type": "stream",
          "name": "stdout",
          "text": [
            "Drive already mounted at /content/drive; to attempt to forcibly remount, call drive.mount(\"/content/drive\", force_remount=True).\n"
          ]
        }
      ],
      "source": [
        "from google.colab import drive\n",
        "drive.mount('/content/drive')"
      ]
    },
    {
      "cell_type": "code",
      "source": [
        "# import important library\n",
        "import pandas as pd\n",
        "import matplotlib.pyplot as plt\n",
        "import matplotlib as mpl\n",
        "import numpy as np\n",
        "import seaborn as sns\n",
        "from scipy import stats\n",
        "import os\n",
        "from collections import Counter\n",
        "\n",
        "%matplotlib inline\n",
        "import pickle\n",
        "import warnings\n",
        "from sklearn import metrics\n",
        "from sklearn.preprocessing import LabelEncoder\n",
        "from sklearn.base import clone\n",
        "from sklearn.preprocessing import label_binarize\n",
        "from scipy import interp\n",
        "from sklearn.metrics import roc_curve, auc \n",
        "\n",
        "from matplotlib.legend_handler import HandlerLine2D\n",
        "import time\n",
        "\n",
        "import sklearn\n",
        "from sklearn.model_selection import train_test_split\n",
        "from sklearn.preprocessing import StandardScaler\n",
        "from sklearn.preprocessing import MinMaxScaler\n",
        "from sklearn.preprocessing import LabelEncoder\n",
        "from sklearn.linear_model import LogisticRegression\n",
        "from sklearn.naive_bayes import GaussianNB\n",
        "from sklearn.tree import DecisionTreeClassifier\n",
        "from sklearn.ensemble import RandomForestClassifier\n",
        "from sklearn import svm\n",
        "from sklearn.svm import SVC\n",
        "from sklearn.ensemble import GradientBoostingClassifier\n",
        "from sklearn.neural_network import MLPClassifier\n",
        "from sklearn.metrics import classification_report\n",
        "\n",
        "from sklearn.preprocessing import StandardScaler\n",
        "from sklearn.decomposition import PCA\n",
        "from sklearn.pipeline import Pipeline\n",
        "from sklearn.model_selection import train_test_split\n",
        "from sklearn.model_selection import GridSearchCV\n",
        "from sklearn.model_selection import RandomizedSearchCV\n",
        "from sklearn.model_selection import cross_val_score\n",
        "\n",
        "from xgboost import XGBClassifier\n",
        "\n",
        "from sklearn.metrics import accuracy_score"
      ],
      "metadata": {
        "id": "Tz6bhuO7TNMg"
      },
      "execution_count": 2,
      "outputs": []
    },
    {
      "cell_type": "code",
      "source": [
        "f_vector = pd.read_csv('/content/drive/MyDrive/CSE499B/Feature_vector_81.csv')\n",
        "f_vector.head()"
      ],
      "metadata": {
        "colab": {
          "base_uri": "https://localhost:8080/",
          "height": 235
        },
        "id": "7RPW5Mh1Tdf9",
        "outputId": "a387f5cd-cb8a-4754-ab41-29e95cec96f6"
      },
      "execution_count": 3,
      "outputs": [
        {
          "output_type": "execute_result",
          "data": {
            "text/plain": [
              "       f1c1      f1c2      f1c3      f1c4      f1c5      f1c6      f1c7  \\\n",
              "0  1.319238  1.649933  1.764590  1.534097  1.306506  2.514998  1.442240   \n",
              "1  2.260318  2.349516  2.285102  2.371036  1.723475  2.354274  1.938889   \n",
              "2  0.881155  0.549112 -0.009987  0.481874  0.616842  0.255339  0.236800   \n",
              "3  0.328330  0.380961  0.402019  0.302958  0.721228  0.672094  0.279890   \n",
              "4  0.535113  1.550108  2.250864  1.378335  1.476941  1.477652  2.206167   \n",
              "\n",
              "       f1c8      f1c9      f2c1  ...      p5c1      p5c2      p5c3      p5c4  \\\n",
              "0  2.010884  1.819087  6.019772  ...  1.797214  1.589979  1.508731  1.750036   \n",
              "1  2.088486  1.822621  4.532200  ...  2.847430  2.468363  2.475560  2.852187   \n",
              "2 -0.273485  0.047532  5.899954  ...  2.795483  2.967400  2.478721  3.613074   \n",
              "3  0.338119  0.285035  1.727734  ...  2.638754  2.326181  2.539087  2.771569   \n",
              "4  1.589180  2.231173  2.631363  ...  2.433947  2.111815  2.187645  2.832316   \n",
              "\n",
              "       p5c5      p5c6      p5c7      p5c8      p5c9  label  \n",
              "0  1.837351  1.716106  1.886707  1.613818  1.696078      0  \n",
              "1  3.900093  2.878861  3.402330  3.174722  3.616891      0  \n",
              "2  4.194302  3.455086  3.332238  3.230821  3.102742      0  \n",
              "3  3.194668  2.511841  2.843321  2.855719  3.362964      0  \n",
              "4  2.764801  2.873741  2.587403  3.229259  2.948791      0  \n",
              "\n",
              "[5 rows x 82 columns]"
            ],
            "text/html": [
              "\n",
              "  <div id=\"df-4e4782f1-592c-4be4-bd14-27ef6c1a6608\">\n",
              "    <div class=\"colab-df-container\">\n",
              "      <div>\n",
              "<style scoped>\n",
              "    .dataframe tbody tr th:only-of-type {\n",
              "        vertical-align: middle;\n",
              "    }\n",
              "\n",
              "    .dataframe tbody tr th {\n",
              "        vertical-align: top;\n",
              "    }\n",
              "\n",
              "    .dataframe thead th {\n",
              "        text-align: right;\n",
              "    }\n",
              "</style>\n",
              "<table border=\"1\" class=\"dataframe\">\n",
              "  <thead>\n",
              "    <tr style=\"text-align: right;\">\n",
              "      <th></th>\n",
              "      <th>f1c1</th>\n",
              "      <th>f1c2</th>\n",
              "      <th>f1c3</th>\n",
              "      <th>f1c4</th>\n",
              "      <th>f1c5</th>\n",
              "      <th>f1c6</th>\n",
              "      <th>f1c7</th>\n",
              "      <th>f1c8</th>\n",
              "      <th>f1c9</th>\n",
              "      <th>f2c1</th>\n",
              "      <th>...</th>\n",
              "      <th>p5c1</th>\n",
              "      <th>p5c2</th>\n",
              "      <th>p5c3</th>\n",
              "      <th>p5c4</th>\n",
              "      <th>p5c5</th>\n",
              "      <th>p5c6</th>\n",
              "      <th>p5c7</th>\n",
              "      <th>p5c8</th>\n",
              "      <th>p5c9</th>\n",
              "      <th>label</th>\n",
              "    </tr>\n",
              "  </thead>\n",
              "  <tbody>\n",
              "    <tr>\n",
              "      <th>0</th>\n",
              "      <td>1.319238</td>\n",
              "      <td>1.649933</td>\n",
              "      <td>1.764590</td>\n",
              "      <td>1.534097</td>\n",
              "      <td>1.306506</td>\n",
              "      <td>2.514998</td>\n",
              "      <td>1.442240</td>\n",
              "      <td>2.010884</td>\n",
              "      <td>1.819087</td>\n",
              "      <td>6.019772</td>\n",
              "      <td>...</td>\n",
              "      <td>1.797214</td>\n",
              "      <td>1.589979</td>\n",
              "      <td>1.508731</td>\n",
              "      <td>1.750036</td>\n",
              "      <td>1.837351</td>\n",
              "      <td>1.716106</td>\n",
              "      <td>1.886707</td>\n",
              "      <td>1.613818</td>\n",
              "      <td>1.696078</td>\n",
              "      <td>0</td>\n",
              "    </tr>\n",
              "    <tr>\n",
              "      <th>1</th>\n",
              "      <td>2.260318</td>\n",
              "      <td>2.349516</td>\n",
              "      <td>2.285102</td>\n",
              "      <td>2.371036</td>\n",
              "      <td>1.723475</td>\n",
              "      <td>2.354274</td>\n",
              "      <td>1.938889</td>\n",
              "      <td>2.088486</td>\n",
              "      <td>1.822621</td>\n",
              "      <td>4.532200</td>\n",
              "      <td>...</td>\n",
              "      <td>2.847430</td>\n",
              "      <td>2.468363</td>\n",
              "      <td>2.475560</td>\n",
              "      <td>2.852187</td>\n",
              "      <td>3.900093</td>\n",
              "      <td>2.878861</td>\n",
              "      <td>3.402330</td>\n",
              "      <td>3.174722</td>\n",
              "      <td>3.616891</td>\n",
              "      <td>0</td>\n",
              "    </tr>\n",
              "    <tr>\n",
              "      <th>2</th>\n",
              "      <td>0.881155</td>\n",
              "      <td>0.549112</td>\n",
              "      <td>-0.009987</td>\n",
              "      <td>0.481874</td>\n",
              "      <td>0.616842</td>\n",
              "      <td>0.255339</td>\n",
              "      <td>0.236800</td>\n",
              "      <td>-0.273485</td>\n",
              "      <td>0.047532</td>\n",
              "      <td>5.899954</td>\n",
              "      <td>...</td>\n",
              "      <td>2.795483</td>\n",
              "      <td>2.967400</td>\n",
              "      <td>2.478721</td>\n",
              "      <td>3.613074</td>\n",
              "      <td>4.194302</td>\n",
              "      <td>3.455086</td>\n",
              "      <td>3.332238</td>\n",
              "      <td>3.230821</td>\n",
              "      <td>3.102742</td>\n",
              "      <td>0</td>\n",
              "    </tr>\n",
              "    <tr>\n",
              "      <th>3</th>\n",
              "      <td>0.328330</td>\n",
              "      <td>0.380961</td>\n",
              "      <td>0.402019</td>\n",
              "      <td>0.302958</td>\n",
              "      <td>0.721228</td>\n",
              "      <td>0.672094</td>\n",
              "      <td>0.279890</td>\n",
              "      <td>0.338119</td>\n",
              "      <td>0.285035</td>\n",
              "      <td>1.727734</td>\n",
              "      <td>...</td>\n",
              "      <td>2.638754</td>\n",
              "      <td>2.326181</td>\n",
              "      <td>2.539087</td>\n",
              "      <td>2.771569</td>\n",
              "      <td>3.194668</td>\n",
              "      <td>2.511841</td>\n",
              "      <td>2.843321</td>\n",
              "      <td>2.855719</td>\n",
              "      <td>3.362964</td>\n",
              "      <td>0</td>\n",
              "    </tr>\n",
              "    <tr>\n",
              "      <th>4</th>\n",
              "      <td>0.535113</td>\n",
              "      <td>1.550108</td>\n",
              "      <td>2.250864</td>\n",
              "      <td>1.378335</td>\n",
              "      <td>1.476941</td>\n",
              "      <td>1.477652</td>\n",
              "      <td>2.206167</td>\n",
              "      <td>1.589180</td>\n",
              "      <td>2.231173</td>\n",
              "      <td>2.631363</td>\n",
              "      <td>...</td>\n",
              "      <td>2.433947</td>\n",
              "      <td>2.111815</td>\n",
              "      <td>2.187645</td>\n",
              "      <td>2.832316</td>\n",
              "      <td>2.764801</td>\n",
              "      <td>2.873741</td>\n",
              "      <td>2.587403</td>\n",
              "      <td>3.229259</td>\n",
              "      <td>2.948791</td>\n",
              "      <td>0</td>\n",
              "    </tr>\n",
              "  </tbody>\n",
              "</table>\n",
              "<p>5 rows × 82 columns</p>\n",
              "</div>\n",
              "      <button class=\"colab-df-convert\" onclick=\"convertToInteractive('df-4e4782f1-592c-4be4-bd14-27ef6c1a6608')\"\n",
              "              title=\"Convert this dataframe to an interactive table.\"\n",
              "              style=\"display:none;\">\n",
              "        \n",
              "  <svg xmlns=\"http://www.w3.org/2000/svg\" height=\"24px\"viewBox=\"0 0 24 24\"\n",
              "       width=\"24px\">\n",
              "    <path d=\"M0 0h24v24H0V0z\" fill=\"none\"/>\n",
              "    <path d=\"M18.56 5.44l.94 2.06.94-2.06 2.06-.94-2.06-.94-.94-2.06-.94 2.06-2.06.94zm-11 1L8.5 8.5l.94-2.06 2.06-.94-2.06-.94L8.5 2.5l-.94 2.06-2.06.94zm10 10l.94 2.06.94-2.06 2.06-.94-2.06-.94-.94-2.06-.94 2.06-2.06.94z\"/><path d=\"M17.41 7.96l-1.37-1.37c-.4-.4-.92-.59-1.43-.59-.52 0-1.04.2-1.43.59L10.3 9.45l-7.72 7.72c-.78.78-.78 2.05 0 2.83L4 21.41c.39.39.9.59 1.41.59.51 0 1.02-.2 1.41-.59l7.78-7.78 2.81-2.81c.8-.78.8-2.07 0-2.86zM5.41 20L4 18.59l7.72-7.72 1.47 1.35L5.41 20z\"/>\n",
              "  </svg>\n",
              "      </button>\n",
              "      \n",
              "  <style>\n",
              "    .colab-df-container {\n",
              "      display:flex;\n",
              "      flex-wrap:wrap;\n",
              "      gap: 12px;\n",
              "    }\n",
              "\n",
              "    .colab-df-convert {\n",
              "      background-color: #E8F0FE;\n",
              "      border: none;\n",
              "      border-radius: 50%;\n",
              "      cursor: pointer;\n",
              "      display: none;\n",
              "      fill: #1967D2;\n",
              "      height: 32px;\n",
              "      padding: 0 0 0 0;\n",
              "      width: 32px;\n",
              "    }\n",
              "\n",
              "    .colab-df-convert:hover {\n",
              "      background-color: #E2EBFA;\n",
              "      box-shadow: 0px 1px 2px rgba(60, 64, 67, 0.3), 0px 1px 3px 1px rgba(60, 64, 67, 0.15);\n",
              "      fill: #174EA6;\n",
              "    }\n",
              "\n",
              "    [theme=dark] .colab-df-convert {\n",
              "      background-color: #3B4455;\n",
              "      fill: #D2E3FC;\n",
              "    }\n",
              "\n",
              "    [theme=dark] .colab-df-convert:hover {\n",
              "      background-color: #434B5C;\n",
              "      box-shadow: 0px 1px 3px 1px rgba(0, 0, 0, 0.15);\n",
              "      filter: drop-shadow(0px 1px 2px rgba(0, 0, 0, 0.3));\n",
              "      fill: #FFFFFF;\n",
              "    }\n",
              "  </style>\n",
              "\n",
              "      <script>\n",
              "        const buttonEl =\n",
              "          document.querySelector('#df-4e4782f1-592c-4be4-bd14-27ef6c1a6608 button.colab-df-convert');\n",
              "        buttonEl.style.display =\n",
              "          google.colab.kernel.accessAllowed ? 'block' : 'none';\n",
              "\n",
              "        async function convertToInteractive(key) {\n",
              "          const element = document.querySelector('#df-4e4782f1-592c-4be4-bd14-27ef6c1a6608');\n",
              "          const dataTable =\n",
              "            await google.colab.kernel.invokeFunction('convertToInteractive',\n",
              "                                                     [key], {});\n",
              "          if (!dataTable) return;\n",
              "\n",
              "          const docLinkHtml = 'Like what you see? Visit the ' +\n",
              "            '<a target=\"_blank\" href=https://colab.research.google.com/notebooks/data_table.ipynb>data table notebook</a>'\n",
              "            + ' to learn more about interactive tables.';\n",
              "          element.innerHTML = '';\n",
              "          dataTable['output_type'] = 'display_data';\n",
              "          await google.colab.output.renderOutput(dataTable, element);\n",
              "          const docLink = document.createElement('div');\n",
              "          docLink.innerHTML = docLinkHtml;\n",
              "          element.appendChild(docLink);\n",
              "        }\n",
              "      </script>\n",
              "    </div>\n",
              "  </div>\n",
              "  "
            ]
          },
          "metadata": {},
          "execution_count": 3
        }
      ]
    },
    {
      "cell_type": "code",
      "source": [
        "cols = f_vector.columns.tolist()"
      ],
      "metadata": {
        "id": "R7djy0hETvqU"
      },
      "execution_count": 4,
      "outputs": []
    },
    {
      "cell_type": "code",
      "source": [
        "\n",
        "sz_features = f_vector[cols[:-1]]\n",
        "sz_features_names=sz_features.columns\n",
        "sz_class_labels = f_vector['label']\n",
        "\n",
        "stp_train_X, stp_test_X, stp_train_y, stp_test_y = train_test_split(sz_features, \n",
        "             sz_class_labels, test_size=0.3, random_state=42)\n",
        "\n",
        "print(Counter(stp_train_y), Counter(stp_test_y))\n",
        "print('Features:', list(sz_features_names))"
      ],
      "metadata": {
        "colab": {
          "base_uri": "https://localhost:8080/"
        },
        "id": "8BhuvUWnT28T",
        "outputId": "29a12bc3-a038-4b5b-d5f7-7485e565a2af"
      },
      "execution_count": 5,
      "outputs": [
        {
          "output_type": "stream",
          "name": "stdout",
          "text": [
            "Counter({1: 34, 0: 22}) Counter({1: 15, 0: 10})\n",
            "Features: ['f1c1', 'f1c2', 'f1c3', 'f1c4', 'f1c5', 'f1c6', 'f1c7', 'f1c8', 'f1c9', 'f2c1', 'f2c2', 'f2c3', 'f2c4', 'f2c5', 'f2c6', 'f2c7', 'f2c8', 'f2c9', 'f3c1', 'f3c2', 'f3c3', 'f3c4', 'f3c5', 'f3c6', 'f3c7', 'f3c8', 'f3c9', 'f4c1', 'f4c2', 'f4c3', 'f4c4', 'f4c5', 'f4c6', 'f4c7', 'f4c8', 'f4c9', 'p1c1', 'p1c2', 'p1c3', 'p1c4', 'p1c5', 'p1c6', 'p1c7', 'p1c8', 'p1c9', 'p2c1', 'p2c2', 'p2c3', 'p2c4', 'p2c5', 'p2c6', 'p2c7', 'p2c8', 'p2c9', 'p3c1', 'p3c2', 'p3c3', 'p3c4', 'p3c5', 'p3c6', 'p3c7', 'p3c8', 'p3c9', 'p4c1', 'p4c2', 'p4c3', 'p4c4', 'p4c5', 'p4c6', 'p4c7', 'p4c8', 'p4c9', 'p5c1', 'p5c2', 'p5c3', 'p5c4', 'p5c5', 'p5c6', 'p5c7', 'p5c8', 'p5c9']\n"
          ]
        }
      ]
    },
    {
      "cell_type": "code",
      "source": [
        "import numpy as np\n",
        "X = np.array(stp_train_X)\n",
        "print(X.shape)\n",
        "#X=np.resize(X,(3,))\n",
        "y= np.array(stp_train_y)\n",
        "print(X.shape)\n",
        "print(y.shape)"
      ],
      "metadata": {
        "colab": {
          "base_uri": "https://localhost:8080/"
        },
        "id": "DAnEBNEEUKVh",
        "outputId": "3b7039c1-65e6-4363-d65b-81dc1fbc6798"
      },
      "execution_count": 6,
      "outputs": [
        {
          "output_type": "stream",
          "name": "stdout",
          "text": [
            "(56, 81)\n",
            "(56, 81)\n",
            "(56,)\n"
          ]
        }
      ]
    },
    {
      "cell_type": "code",
      "source": [
        "from sklearn import svm\n",
        "clf = svm.SVC(probability=True)\n",
        "clf.fit(X, y)"
      ],
      "metadata": {
        "colab": {
          "base_uri": "https://localhost:8080/"
        },
        "id": "3AK_LSwHUNQ7",
        "outputId": "2d2d72c7-7ec6-4c64-ebc7-e60abeecf09e"
      },
      "execution_count": 7,
      "outputs": [
        {
          "output_type": "execute_result",
          "data": {
            "text/plain": [
              "SVC(probability=True)"
            ]
          },
          "metadata": {},
          "execution_count": 7
        }
      ]
    },
    {
      "cell_type": "code",
      "source": [
        "y_pred = clf.predict(stp_test_X)\n",
        "stp_test_y"
      ],
      "metadata": {
        "colab": {
          "base_uri": "https://localhost:8080/"
        },
        "id": "Hy-FsMr7UQKR",
        "outputId": "f388c564-f736-440b-d605-7dd13e9ea533"
      },
      "execution_count": 8,
      "outputs": [
        {
          "output_type": "stream",
          "name": "stderr",
          "text": [
            "/usr/local/lib/python3.7/dist-packages/sklearn/base.py:444: UserWarning: X has feature names, but SVC was fitted without feature names\n",
            "  f\"X has feature names, but {self.__class__.__name__} was fitted without\"\n"
          ]
        },
        {
          "output_type": "execute_result",
          "data": {
            "text/plain": [
              "30    1\n",
              "0     0\n",
              "22    0\n",
              "31    1\n",
              "18    0\n",
              "28    1\n",
              "10    0\n",
              "70    1\n",
              "4     0\n",
              "12    0\n",
              "49    1\n",
              "33    1\n",
              "67    1\n",
              "35    1\n",
              "68    1\n",
              "45    1\n",
              "73    1\n",
              "61    0\n",
              "55    1\n",
              "40    1\n",
              "9     0\n",
              "64    0\n",
              "5     0\n",
              "47    1\n",
              "34    1\n",
              "Name: label, dtype: int64"
            ]
          },
          "metadata": {},
          "execution_count": 8
        }
      ]
    },
    {
      "cell_type": "code",
      "source": [
        "#Import scikit-learn metrics module for accuracy calculation\n",
        "from sklearn import metrics\n",
        "final=metrics.accuracy_score(stp_test_y, y_pred)*100\n",
        "# Model Accuracy: how often is the classifier correct?\n",
        "print(\"Accuracy:{:.3f}\".format(final),\"%\")"
      ],
      "metadata": {
        "colab": {
          "base_uri": "https://localhost:8080/"
        },
        "id": "ahdJEHiCUTiT",
        "outputId": "df915363-a98d-4f87-a470-7d2429a5ac6a"
      },
      "execution_count": 9,
      "outputs": [
        {
          "output_type": "stream",
          "name": "stdout",
          "text": [
            "Accuracy:60.000 %\n"
          ]
        }
      ]
    },
    {
      "cell_type": "code",
      "source": [
        "# importing random forest classifier from assemble module\n",
        "from sklearn.ensemble import RandomForestClassifier\n",
        "# Create a Random forest Classifier\n",
        "clf_rd = RandomForestClassifier(n_estimators = 100)\n",
        " \n",
        "# Train the model using the training sets\n",
        "clf_rd.fit(X, y)"
      ],
      "metadata": {
        "colab": {
          "base_uri": "https://localhost:8080/"
        },
        "id": "oMRKCp2MUWIs",
        "outputId": "854be577-1a9a-499e-8f56-c227fb97b88e"
      },
      "execution_count": 10,
      "outputs": [
        {
          "output_type": "execute_result",
          "data": {
            "text/plain": [
              "RandomForestClassifier()"
            ]
          },
          "metadata": {},
          "execution_count": 10
        }
      ]
    },
    {
      "cell_type": "code",
      "source": [
        "y_pred_rn = clf_rd.predict(stp_test_X)\n",
        "stp_test_y"
      ],
      "metadata": {
        "colab": {
          "base_uri": "https://localhost:8080/"
        },
        "id": "wI46cOkuUZEf",
        "outputId": "2dde2cb2-0d14-43dc-925b-c4b36da5d868"
      },
      "execution_count": 11,
      "outputs": [
        {
          "output_type": "stream",
          "name": "stderr",
          "text": [
            "/usr/local/lib/python3.7/dist-packages/sklearn/base.py:444: UserWarning: X has feature names, but RandomForestClassifier was fitted without feature names\n",
            "  f\"X has feature names, but {self.__class__.__name__} was fitted without\"\n"
          ]
        },
        {
          "output_type": "execute_result",
          "data": {
            "text/plain": [
              "30    1\n",
              "0     0\n",
              "22    0\n",
              "31    1\n",
              "18    0\n",
              "28    1\n",
              "10    0\n",
              "70    1\n",
              "4     0\n",
              "12    0\n",
              "49    1\n",
              "33    1\n",
              "67    1\n",
              "35    1\n",
              "68    1\n",
              "45    1\n",
              "73    1\n",
              "61    0\n",
              "55    1\n",
              "40    1\n",
              "9     0\n",
              "64    0\n",
              "5     0\n",
              "47    1\n",
              "34    1\n",
              "Name: label, dtype: int64"
            ]
          },
          "metadata": {},
          "execution_count": 11
        }
      ]
    },
    {
      "cell_type": "code",
      "source": [
        "#Import scikit-learn metrics module for accuracy calculation\n",
        "from sklearn import metrics\n",
        "final=metrics.accuracy_score(stp_test_y, y_pred_rn)*100\n",
        "# Model Accuracy: how often is the classifier correct?\n",
        "print(\"Accuracy:{:.3f}\".format(final),\"%\")"
      ],
      "metadata": {
        "colab": {
          "base_uri": "https://localhost:8080/"
        },
        "id": "0ucQRlmDUg3F",
        "outputId": "3a7f2e98-1ff4-4f89-b3cf-93b217cbd655"
      },
      "execution_count": 12,
      "outputs": [
        {
          "output_type": "stream",
          "name": "stdout",
          "text": [
            "Accuracy:56.000 %\n"
          ]
        }
      ]
    },
    {
      "cell_type": "code",
      "source": [
        "from sklearn.linear_model import LogisticRegression\n",
        "\n",
        "clf_lr = LogisticRegression()\n",
        "clf_lr.fit(X,y)"
      ],
      "metadata": {
        "colab": {
          "base_uri": "https://localhost:8080/"
        },
        "id": "DcaIrpEPUu2_",
        "outputId": "6117de13-a470-408d-ded7-4f203cd62954"
      },
      "execution_count": 13,
      "outputs": [
        {
          "output_type": "stream",
          "name": "stderr",
          "text": [
            "/usr/local/lib/python3.7/dist-packages/sklearn/linear_model/_logistic.py:818: ConvergenceWarning: lbfgs failed to converge (status=1):\n",
            "STOP: TOTAL NO. of ITERATIONS REACHED LIMIT.\n",
            "\n",
            "Increase the number of iterations (max_iter) or scale the data as shown in:\n",
            "    https://scikit-learn.org/stable/modules/preprocessing.html\n",
            "Please also refer to the documentation for alternative solver options:\n",
            "    https://scikit-learn.org/stable/modules/linear_model.html#logistic-regression\n",
            "  extra_warning_msg=_LOGISTIC_SOLVER_CONVERGENCE_MSG,\n"
          ]
        },
        {
          "output_type": "execute_result",
          "data": {
            "text/plain": [
              "LogisticRegression()"
            ]
          },
          "metadata": {},
          "execution_count": 13
        }
      ]
    },
    {
      "cell_type": "code",
      "source": [
        "y_pred_lr = clf_lr.predict(stp_test_X)\n",
        "stp_test_y"
      ],
      "metadata": {
        "colab": {
          "base_uri": "https://localhost:8080/"
        },
        "id": "7lwperL3U3e2",
        "outputId": "f9e70a3c-ddeb-449e-b8a2-0e58b4b9bf76"
      },
      "execution_count": 14,
      "outputs": [
        {
          "output_type": "stream",
          "name": "stderr",
          "text": [
            "/usr/local/lib/python3.7/dist-packages/sklearn/base.py:444: UserWarning: X has feature names, but LogisticRegression was fitted without feature names\n",
            "  f\"X has feature names, but {self.__class__.__name__} was fitted without\"\n"
          ]
        },
        {
          "output_type": "execute_result",
          "data": {
            "text/plain": [
              "30    1\n",
              "0     0\n",
              "22    0\n",
              "31    1\n",
              "18    0\n",
              "28    1\n",
              "10    0\n",
              "70    1\n",
              "4     0\n",
              "12    0\n",
              "49    1\n",
              "33    1\n",
              "67    1\n",
              "35    1\n",
              "68    1\n",
              "45    1\n",
              "73    1\n",
              "61    0\n",
              "55    1\n",
              "40    1\n",
              "9     0\n",
              "64    0\n",
              "5     0\n",
              "47    1\n",
              "34    1\n",
              "Name: label, dtype: int64"
            ]
          },
          "metadata": {},
          "execution_count": 14
        }
      ]
    },
    {
      "cell_type": "code",
      "source": [
        "#Import scikit-learn metrics module for accuracy calculation\n",
        "from sklearn import metrics\n",
        "final=metrics.accuracy_score(stp_test_y, y_pred_lr)*100\n",
        "# Model Accuracy: how often is the classifier correct?\n",
        "print(\"Accuracy:{:.3f}\".format(final),\"%\")"
      ],
      "metadata": {
        "colab": {
          "base_uri": "https://localhost:8080/"
        },
        "id": "8etMJq0BU9bc",
        "outputId": "4c69f41c-e006-4e56-ce08-91eec5e75e8e"
      },
      "execution_count": 15,
      "outputs": [
        {
          "output_type": "stream",
          "name": "stdout",
          "text": [
            "Accuracy:44.000 %\n"
          ]
        }
      ]
    }
  ]
}